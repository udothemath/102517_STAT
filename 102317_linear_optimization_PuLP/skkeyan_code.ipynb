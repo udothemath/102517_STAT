{
 "cells": [
  {
   "cell_type": "markdown",
   "metadata": {},
   "source": [
    "## Linear Programming in Python : Create Watch List for TED Videos  ##\n",
    "Inspired by https://www.analyticsvidhya.com/blog/2017/10/linear-optimization-in-python/"
   ]
  },
  {
   "cell_type": "markdown",
   "metadata": {},
   "source": [
    "### Import the Library ###  \n",
    "PuLP, the optimization package embedded in python."
   ]
  },
  {
   "cell_type": "code",
   "execution_count": 1,
   "metadata": {
    "collapsed": false
   },
   "outputs": [],
   "source": [
    "% matplotlib inline\n",
    "\n",
    "from pulp import *\n",
    "import numpy as np\n",
    "import pandas as pd\n",
    "import re\n",
    "import matplotlib.pyplot as plt\n",
    "from IPython.display import Image, display\n"
   ]
  },
  {
   "cell_type": "markdown",
   "metadata": {},
   "source": [
    "### Load the Data ###"
   ]
  },
  {
   "cell_type": "code",
   "execution_count": 2,
   "metadata": {
    "collapsed": false
   },
   "outputs": [],
   "source": [
    "# Download the dataset from https://www.kaggle.com/rounakbanik/ted-talks\n",
    "\n",
    "# Read the dataset into pandas dataframe, convert duration from seconds to minutes\n",
    "ted = pd.read_csv('./data/ted_main.csv', encoding='ISO-8859-1')\n",
    "ted['duration'] = ted['duration'] / 60"
   ]
  },
  {
   "cell_type": "code",
   "execution_count": 3,
   "metadata": {},
   "outputs": [
    {
     "name": "stdout",
     "output_type": "stream",
     "text": [
      "   comments                                        description   duration  \\\n",
      "0      4553  Sir Ken Robinson makes an entertaining and pro...  19.400000   \n",
      "1       265  With the same humor and humanity he exuded in ...  16.283333   \n",
      "2       124  New York Times columnist David Pogue takes aim...  21.433333   \n",
      "3       200  In an emotionally charged talk, MacArthur-winn...  18.600000   \n",
      "\n",
      "     event   film_date  languages   main_speaker  \\\n",
      "0  TED2006  1140825600         60   Ken Robinson   \n",
      "1  TED2006  1140825600         43        Al Gore   \n",
      "2  TED2006  1140739200         26    David Pogue   \n",
      "3  TED2006  1140912000         35  Majora Carter   \n",
      "\n",
      "                                        name  num_speaker  published_date  \\\n",
      "0  Ken Robinson: Do schools kill creativity?            1      1151367060   \n",
      "1       Al Gore: Averting the climate crisis            1      1151367060   \n",
      "2              David Pogue: Simplicity sells            1      1151367060   \n",
      "3         Majora Carter: Greening the ghetto            1      1151367060   \n",
      "\n",
      "                                             ratings  \\\n",
      "0  [{'id': 7, 'name': 'Funny', 'count': 19645}, {...   \n",
      "1  [{'id': 7, 'name': 'Funny', 'count': 544}, {'i...   \n",
      "2  [{'id': 7, 'name': 'Funny', 'count': 964}, {'i...   \n",
      "3  [{'id': 3, 'name': 'Courageous', 'count': 760}...   \n",
      "\n",
      "                                       related_talks  \\\n",
      "0  [{'id': 865, 'hero': 'https://pe.tedcdn.com/im...   \n",
      "1  [{'id': 243, 'hero': 'https://pe.tedcdn.com/im...   \n",
      "2  [{'id': 1725, 'hero': 'https://pe.tedcdn.com/i...   \n",
      "3  [{'id': 1041, 'hero': 'https://pe.tedcdn.com/i...   \n",
      "\n",
      "                   speaker_occupation  \\\n",
      "0                     Author/educator   \n",
      "1                    Climate advocate   \n",
      "2                Technology columnist   \n",
      "3  Activist for environmental justice   \n",
      "\n",
      "                                                tags  \\\n",
      "0  ['children', 'creativity', 'culture', 'dance',...   \n",
      "1  ['alternative energy', 'cars', 'climate change...   \n",
      "2  ['computers', 'entertainment', 'interface desi...   \n",
      "3  ['MacArthur grant', 'activism', 'business', 'c...   \n",
      "\n",
      "                         title  \\\n",
      "0  Do schools kill creativity?   \n",
      "1  Averting the climate crisis   \n",
      "2             Simplicity sells   \n",
      "3          Greening the ghetto   \n",
      "\n",
      "                                                 url     views  \n",
      "0  https://www.ted.com/talks/ken_robinson_says_sc...  47227110  \n",
      "1  https://www.ted.com/talks/al_gore_on_averting_...   3200520  \n",
      "2  https://www.ted.com/talks/david_pogue_says_sim...   1636292  \n",
      "3  https://www.ted.com/talks/majora_carter_s_tale...   1697550  \n"
     ]
    }
   ],
   "source": [
    "print(ted[:4])"
   ]
  },
  {
   "cell_type": "code",
   "execution_count": 4,
   "metadata": {
    "collapsed": false
   },
   "outputs": [],
   "source": [
    "ted = ted.round({'duration': 1})"
   ]
  },
  {
   "cell_type": "code",
   "execution_count": null,
   "metadata": {},
   "outputs": [],
   "source": []
  },
  {
   "cell_type": "code",
   "execution_count": null,
   "metadata": {},
   "outputs": [],
   "source": [
    "display(ted.shape)\n",
    "display(ted.head(3))"
   ]
  },
  {
   "cell_type": "code",
   "execution_count": null,
   "metadata": {
    "collapsed": false
   },
   "outputs": [],
   "source": [
    "# Select subset of columns & rows (if required)\n",
    "# data = ted.sample(n=1000) # 'n' can be changed as required\n",
    "data = ted\n",
    "selected_cols = ['name', 'event', 'duration', 'views']\n",
    "data.reset_index(inplace=True)"
   ]
  },
  {
   "cell_type": "markdown",
   "metadata": {},
   "source": [
    "### The Problem Statement ###  \n",
    "Select the maximum number of videos to watch  \n",
    "https://pythonhosted.org/PuLP/pulp.html?highlight=lpproblem#pulp.LpProblem"
   ]
  },
  {
   "cell_type": "code",
   "execution_count": null,
   "metadata": {
    "collapsed": false
   },
   "outputs": [],
   "source": [
    "# create LP object,\n",
    "# set up as a maximization problem --> since we want to maximize the number of TED talks to watch\n",
    "prob = pulp.LpProblem('WatchingTEDTalks', pulp.LpMaximize)"
   ]
  },
  {
   "cell_type": "markdown",
   "metadata": {},
   "source": [
    "### To Be (Watched) Or Not to Be ###  \n",
    "Define the variable in pulp platform"
   ]
  },
  {
   "cell_type": "code",
   "execution_count": null,
   "metadata": {
    "collapsed": false
   },
   "outputs": [],
   "source": [
    "# create decision - yes or no to watch the talk?\n",
    "decision_variables = []\n",
    "for rownum, row in data.iterrows():\n",
    "    # variable = set('x' + str(rownum))\n",
    "    variable = str('x' + str(row['index']))\n",
    "    variable = pulp.LpVariable(str(variable), lowBound = 0, upBound = 1, cat = 'Integer') # make variable binary\n",
    "    decision_variables.append(variable)\n",
    "    \n",
    "print('Total number of decision variables: ' + str(len(decision_variables)))"
   ]
  },
  {
   "cell_type": "code",
   "execution_count": null,
   "metadata": {},
   "outputs": [],
   "source": [
    "#print(decision_variables)"
   ]
  },
  {
   "cell_type": "markdown",
   "metadata": {},
   "source": [
    "### Create Optimization Function ###"
   ]
  },
  {
   "cell_type": "code",
   "execution_count": null,
   "metadata": {
    "collapsed": false
   },
   "outputs": [],
   "source": [
    "# Create optimization Function\n",
    "total_views = ''\n",
    "for rownum, row in data.iterrows():\n",
    "    formula = row['views'] * decision_variables[rownum]\n",
    "    total_views += formula\n",
    "            \n",
    "prob += total_views\n",
    "# print('Optimization function: ' + str(total_views))"
   ]
  },
  {
   "cell_type": "markdown",
   "metadata": {},
   "source": [
    "### Contraints ###"
   ]
  },
  {
   "cell_type": "code",
   "execution_count": null,
   "metadata": {
    "collapsed": true
   },
   "outputs": [],
   "source": [
    "# Contraints\n",
    "total_time_available_for_talks = 10*60 # Total time available is 10 hours . Converted to minutes\n",
    "total_talks_can_watch = 25 # Don't want an overload information"
   ]
  },
  {
   "cell_type": "markdown",
   "metadata": {},
   "source": [
    "### First Constraint ###"
   ]
  },
  {
   "cell_type": "code",
   "execution_count": null,
   "metadata": {
    "collapsed": false
   },
   "outputs": [],
   "source": [
    "# Create Constraint 1 - Time for talks\n",
    "total_time_talks = ''\n",
    "for rownum, row in data.iterrows():\n",
    "    formula = row['duration'] * decision_variables[rownum]\n",
    "    total_time_talks += formula\n",
    "            \n",
    "prob += (total_time_talks == total_time_available_for_talks)"
   ]
  },
  {
   "cell_type": "markdown",
   "metadata": {},
   "source": [
    "### Second Constraint ###"
   ]
  },
  {
   "cell_type": "code",
   "execution_count": null,
   "metadata": {
    "collapsed": false
   },
   "outputs": [],
   "source": [
    "# Create Constraint 2 - Number of talks\n",
    "total_talks = ''\n",
    "\n",
    "for rownum, row in data.iterrows():\n",
    "    formula = decision_variables[rownum]\n",
    "    total_talks += formula\n",
    "            \n",
    "prob += (total_talks == total_talks_can_watch)"
   ]
  },
  {
   "cell_type": "code",
   "execution_count": null,
   "metadata": {
    "collapsed": false
   },
   "outputs": [],
   "source": [
    "#print(prob)\n",
    "prob.writeLP('WatchingTEDTalks.lp')"
   ]
  },
  {
   "cell_type": "code",
   "execution_count": null,
   "metadata": {
    "collapsed": false
   },
   "outputs": [],
   "source": [
    "optimization_result = prob.solve()\n",
    "\n",
    "assert optimization_result == pulp.LpStatusOptimal\n",
    "print('Status:', LpStatus[prob.status])\n",
    "print('Optimal Solution to the problem: ', value(prob.objective))\n",
    "print('Individual decision variables: ')\n",
    "for v in prob.variables():\n",
    "    print(v.name, '=', v.varValue)"
   ]
  },
  {
   "cell_type": "code",
   "execution_count": null,
   "metadata": {
    "collapsed": false
   },
   "outputs": [],
   "source": [
    "# reorder results\n",
    "variable_name = []\n",
    "variable_value = []\n",
    "\n",
    "for v in prob.variables():\n",
    "    variable_name.append(v.name)\n",
    "    variable_value.append(v.varValue)\n",
    "    \n",
    "df = pd.DataFrame({'index': variable_name, 'value': variable_value})"
   ]
  },
  {
   "cell_type": "code",
   "execution_count": null,
   "metadata": {},
   "outputs": [],
   "source": [
    "display(df.head(3))"
   ]
  },
  {
   "cell_type": "code",
   "execution_count": null,
   "metadata": {
    "collapsed": false
   },
   "outputs": [],
   "source": [
    "## \\d\n",
    "## https://docs.python.org/3.1/library/re.html\n",
    "## Matches any Unicode digit (which includes [0-9], and also many other digit characters).\n",
    "for rownum, row in df.iterrows():\n",
    "    value = re.findall(r'(\\d+)', row['index'])\n",
    "    df.loc[rownum, 'index'] = int(value[0])"
   ]
  },
  {
   "cell_type": "code",
   "execution_count": null,
   "metadata": {},
   "outputs": [],
   "source": [
    "display(df.head(3))"
   ]
  },
  {
   "cell_type": "code",
   "execution_count": null,
   "metadata": {
    "collapsed": false
   },
   "outputs": [],
   "source": [
    "# df = df.sort_index(by = 'index')\n",
    "df = df.sort_values(by = 'index')"
   ]
  },
  {
   "cell_type": "code",
   "execution_count": null,
   "metadata": {},
   "outputs": [],
   "source": [
    "display(df.head(3))"
   ]
  },
  {
   "cell_type": "code",
   "execution_count": null,
   "metadata": {},
   "outputs": [],
   "source": [
    "display(data.head(3))"
   ]
  },
  {
   "cell_type": "code",
   "execution_count": null,
   "metadata": {
    "collapsed": false
   },
   "outputs": [],
   "source": [
    "result = pd.merge(data, df, on = 'index')\n",
    "result = result[result['value'] == 1].sort_values(by = 'views', ascending = False)"
   ]
  },
  {
   "cell_type": "markdown",
   "metadata": {},
   "source": [
    "### Select Desired Entries ###"
   ]
  },
  {
   "cell_type": "code",
   "execution_count": null,
   "metadata": {
    "collapsed": false
   },
   "outputs": [],
   "source": [
    "selected_cols_final = ['name', 'event', 'duration', 'views']\n",
    "final_set_of_talks_to_watch = result[selected_cols_final]"
   ]
  },
  {
   "cell_type": "code",
   "execution_count": null,
   "metadata": {
    "collapsed": true
   },
   "outputs": [],
   "source": [
    "from IPython.display import display, HTML\n",
    "display(HTML(final_set_of_talks_to_watch.to_html(index=False)))"
   ]
  },
  {
   "cell_type": "code",
   "execution_count": null,
   "metadata": {},
   "outputs": [],
   "source": []
  }
 ],
 "metadata": {
  "kernelspec": {
   "display_name": "Python 3",
   "language": "python",
   "name": "python3"
  },
  "language_info": {
   "codemirror_mode": {
    "name": "ipython",
    "version": 3
   },
   "file_extension": ".py",
   "mimetype": "text/x-python",
   "name": "python",
   "nbconvert_exporter": "python",
   "pygments_lexer": "ipython3",
   "version": "3.6.0"
  }
 },
 "nbformat": 4,
 "nbformat_minor": 2
}
